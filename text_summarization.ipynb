{
 "cells": [
  {
   "cell_type": "code",
   "execution_count": 9,
   "id": "81acbf22",
   "metadata": {},
   "outputs": [
    {
     "data": {
      "text/plain": [
       "ChatGroq(client=<groq.resources.chat.completions.Completions object at 0x0000019B56A64390>, async_client=<groq.resources.chat.completions.AsyncCompletions object at 0x0000019B572AE750>, model_name='gemma2-9b-it', model_kwargs={}, groq_api_key=SecretStr('**********'))"
      ]
     },
     "execution_count": 9,
     "metadata": {},
     "output_type": "execute_result"
    }
   ],
   "source": [
    "from langchain_groq import ChatGroq\n",
    "from dotenv import load_dotenv\n",
    "import os\n",
    "load_dotenv()\n",
    "api_key = os.getenv('GROQ_API_KEY')\n",
    "llm = ChatGroq(model=\"gemma2-9b-it\")\n",
    "llm"
   ]
  },
  {
   "cell_type": "code",
   "execution_count": 2,
   "id": "9b408650",
   "metadata": {},
   "outputs": [],
   "source": [
    "from langchain.schema import AIMessage,HumanMessage,SystemMessage"
   ]
  },
  {
   "cell_type": "code",
   "execution_count": 3,
   "id": "bd2c403e",
   "metadata": {},
   "outputs": [],
   "source": [
    "speech=\"\"\"\n",
    "People across the country, involved in government, political, and social activities, are dedicating their time to make the ‘Viksit Bharat Sankalp Yatra’ (Developed India Resolution Journey) successful. Therefore, as a Member of Parliament, it was my responsibility to also contribute my time to this program. So, today, I have come here just as a Member of Parliament and your ‘sevak’, ready to participate in this program, much like you.\n",
    "\n",
    "In our country, governments have come and gone, numerous schemes have been formulated, discussions have taken place, and big promises have been made. However, my experience and observations led me to believe that the most critical aspect that requires attention is ensuring that the government’s plans reach the intended beneficiaries without any hassles. If there is a ‘Pradhan Mantri Awas Yojana’ (Prime Minister’s housing scheme), then those who are living in jhuggis and slums should get their houses. And he should not need to make rounds of the government offices for this purpose. The government should reach him. Since you have assigned this responsibility to me, about four crore families have got their ‘pucca’ houses. However, I have encountered cases where someone is left out of the government benefits. Therefore, I have decided to tour the country again, to listen to people’s experiences with government schemes, to understand whether they received the intended benefits, and to ensure that the programs are reaching everyone as planned without paying any bribes. We will get the real picture if we visit them again. Therefore, this ‘Viksit Bharat Sankalp Yatra’ is, in a way, my own examination. I want to hear from you and the people across the country whether what I envisioned and the work I have been doing aligns with reality and whether it has reached those for whom it was meant.\n",
    "\n",
    "It is crucial to check whether the work that was supposed to happen has indeed taken place. I recently met some individuals who utilized the Ayushman card to get treatment for serious illnesses. One person met with a severe accident, and after using the card, he could afford the necessary operation, and now he is recovering well. When I asked him, he said: “How could I afford this treatment? Now that there is the Ayushman card, I mustered courage and underwent an operation. Now I am perfectly fine.”  Such stories are blessings to me.\n",
    "\n",
    "The bureaucrats, who prepare good schemes, expedite the paperwork and even allocate funds, also feel satisfied that 50 or 100 people who were supposed to get the funds have got it. The funds meant for a thousand villages have been released. But their job satisfaction peaks when they hear that their work has directly impacted someone’s life positively. When they see the tangible results of their efforts, their enthusiasm multiplies. They feel satisfied. Therefore, ‘Viksit Bharat Sankalp Yatra’ has had a positive impact on government officers. It has made them more enthusiastic about their work, especially when they witness the tangible benefits reaching the people. Officers now feel satisfied with their work, saying, “I made a good plan, I created a file, and the intended beneficiaries received the benefits.” When they find that the money has reached a poor widow under the Jeevan Jyoti scheme and it was a great help to her during her crisis, they realise that they have done a good job. When a government officer listens to such stories, he feels very satisfied.\n",
    "\n",
    "There are very few who understand the power and impact of the ‘Viksit Bharat Sankalp Yatra’. When I hear people connected to bureaucratic circles talking about it, expressing their satisfaction, it resonates with me. I’ve heard stories where someone suddenly received 2 lakh rupees after the death of her husband, and a sister mentioned how the arrival of gas in her home transformed her lives. The most significant aspect is when someone says that the line between rich and poor has vanished. While the slogan ‘Garibi Hatao’ (Remove Poverty) is one thing, but the real change happens when a person says, “As soon as the gas stove came to my house, the distinction between poverty and affluence disappeared.\n",
    "\"\"\""
   ]
  },
  {
   "cell_type": "code",
   "execution_count": 4,
   "id": "1233b525",
   "metadata": {},
   "outputs": [
    {
     "data": {
      "text/plain": [
       "'\\nPeople across the country, involved in government, political, and social activities, are dedicating their time to make the ‘Viksit Bharat Sankalp Yatra’ (Developed India Resolution Journey) successful. Therefore, as a Member of Parliament, it was my responsibility to also contribute my time to this program. So, today, I have come here just as a Member of Parliament and your ‘sevak’, ready to participate in this program, much like you.\\n\\nIn our country, governments have come and gone, numerous schemes have been formulated, discussions have taken place, and big promises have been made. However, my experience and observations led me to believe that the most critical aspect that requires attention is ensuring that the government’s plans reach the intended beneficiaries without any hassles. If there is a ‘Pradhan Mantri Awas Yojana’ (Prime Minister’s housing scheme), then those who are living in jhuggis and slums should get their houses. And he should not need to make rounds of the government offices for this purpose. The government should reach him. Since you have assigned this responsibility to me, about four crore families have got their ‘pucca’ houses. However, I have encountered cases where someone is left out of the government benefits. Therefore, I have decided to tour the country again, to listen to people’s experiences with government schemes, to understand whether they received the intended benefits, and to ensure that the programs are reaching everyone as planned without paying any bribes. We will get the real picture if we visit them again. Therefore, this ‘Viksit Bharat Sankalp Yatra’ is, in a way, my own examination. I want to hear from you and the people across the country whether what I envisioned and the work I have been doing aligns with reality and whether it has reached those for whom it was meant.\\n\\nIt is crucial to check whether the work that was supposed to happen has indeed taken place. I recently met some individuals who utilized the Ayushman card to get treatment for serious illnesses. One person met with a severe accident, and after using the card, he could afford the necessary operation, and now he is recovering well. When I asked him, he said: “How could I afford this treatment? Now that there is the Ayushman card, I mustered courage and underwent an operation. Now I am perfectly fine.”  Such stories are blessings to me.\\n\\nThe bureaucrats, who prepare good schemes, expedite the paperwork and even allocate funds, also feel satisfied that 50 or 100 people who were supposed to get the funds have got it. The funds meant for a thousand villages have been released. But their job satisfaction peaks when they hear that their work has directly impacted someone’s life positively. When they see the tangible results of their efforts, their enthusiasm multiplies. They feel satisfied. Therefore, ‘Viksit Bharat Sankalp Yatra’ has had a positive impact on government officers. It has made them more enthusiastic about their work, especially when they witness the tangible benefits reaching the people. Officers now feel satisfied with their work, saying, “I made a good plan, I created a file, and the intended beneficiaries received the benefits.” When they find that the money has reached a poor widow under the Jeevan Jyoti scheme and it was a great help to her during her crisis, they realise that they have done a good job. When a government officer listens to such stories, he feels very satisfied.\\n\\nThere are very few who understand the power and impact of the ‘Viksit Bharat Sankalp Yatra’. When I hear people connected to bureaucratic circles talking about it, expressing their satisfaction, it resonates with me. I’ve heard stories where someone suddenly received 2 lakh rupees after the death of her husband, and a sister mentioned how the arrival of gas in her home transformed her lives. The most significant aspect is when someone says that the line between rich and poor has vanished. While the slogan ‘Garibi Hatao’ (Remove Poverty) is one thing, but the real change happens when a person says, “As soon as the gas stove came to my house, the distinction between poverty and affluence disappeared.\\n'"
      ]
     },
     "execution_count": 4,
     "metadata": {},
     "output_type": "execute_result"
    }
   ],
   "source": [
    "speech"
   ]
  },
  {
   "cell_type": "code",
   "execution_count": 5,
   "id": "c97d64d7",
   "metadata": {},
   "outputs": [],
   "source": [
    "chat_message=[\n",
    "    SystemMessage(content=\"You are an expert in summarizing speechs\"),\n",
    "    HumanMessage(content=f\"please provide a short summary of the following speech: \\n Text:{speech}\")\n",
    "]"
   ]
  },
  {
   "cell_type": "code",
   "execution_count": 10,
   "id": "8ea26784",
   "metadata": {},
   "outputs": [
    {
     "data": {
      "text/plain": [
       "909"
      ]
     },
     "execution_count": 10,
     "metadata": {},
     "output_type": "execute_result"
    }
   ],
   "source": [
    "llm.get_num_tokens(speech)"
   ]
  },
  {
   "cell_type": "code",
   "execution_count": 11,
   "id": "0bdaa478",
   "metadata": {},
   "outputs": [
    {
     "data": {
      "text/plain": [
       "'This speech emphasizes the importance of ensuring government schemes effectively reach their intended beneficiaries. The speaker, a Member of Parliament, recounts their experience with the \"Viksit Bharat Sankalp Yatra\" (Developed India Resolution Journey), a nationwide program to assess the impact of government initiatives. \\n\\nThey highlight the need to go beyond bureaucratic processes and directly connect with people to understand their experiences. The speaker shares heartwarming stories of people benefiting from government schemes like the Ayushman card and Pradhan Mantri Awas Yojana, emphasizing the tangible impact these programs have on their lives.\\n\\nThey also discuss how these interactions have positively impacted government officials, instilling a sense of satisfaction and purpose in their work by witnessing the direct benefits reaching the people. Ultimately, the speech emphasizes the transformative power of connecting government initiatives with real-life experiences and the importance of bridging the gap between policy and its intended beneficiaries. \\n\\n\\n'"
      ]
     },
     "execution_count": 11,
     "metadata": {},
     "output_type": "execute_result"
    }
   ],
   "source": [
    "llm(chat_message).content"
   ]
  },
  {
   "cell_type": "code",
   "execution_count": 12,
   "id": "4210db35",
   "metadata": {},
   "outputs": [
    {
     "data": {
      "text/plain": [
       "AIMessage(content='This speech emphasizes the importance of ensuring government schemes effectively reach their intended beneficiaries. The speaker, a Member of Parliament, reflects on his experience overseeing the \\'Pradhan Mantri Awas Yojana\\' and highlights instances where individuals were deprived of government benefits.  \\n\\nHe announces the \"Viksit Bharat Sankalp Yatra,\" a nationwide journey to gather firsthand accounts from citizens about their experiences with government programs. The speaker aims to understand if the benefits are reaching everyone as planned and to address any shortcomings.\\n\\nThe speech underscores the positive impact of the Yatra on government officials, who find satisfaction in witnessing the tangible results of their work and the positive impact on people\\'s lives.  Examples are given of individuals benefiting from the Ayushman card and the Jeevan Jyoti scheme, illustrating how government programs can alleviate poverty and improve lives. \\n\\nUltimately, the speaker celebrates the Yatra\\'s success in bridging the gap between the privileged and underprivileged, demonstrating that government initiatives can truly make a difference.  \\n\\n', additional_kwargs={}, response_metadata={'token_usage': {'completion_tokens': 206, 'prompt_tokens': 884, 'total_tokens': 1090, 'completion_time': 0.374545455, 'prompt_time': 0.031466911, 'queue_time': 0.248962949, 'total_time': 0.406012366}, 'model_name': 'gemma2-9b-it', 'system_fingerprint': 'fp_10c08bf97d', 'finish_reason': 'stop', 'logprobs': None}, id='run--fe7265e7-a4c4-4da1-82fb-0f039daf5fb8-0', usage_metadata={'input_tokens': 884, 'output_tokens': 206, 'total_tokens': 1090})"
      ]
     },
     "execution_count": 12,
     "metadata": {},
     "output_type": "execute_result"
    }
   ],
   "source": [
    "llm(chat_message)"
   ]
  },
  {
   "cell_type": "code",
   "execution_count": 14,
   "id": "f88b860f",
   "metadata": {},
   "outputs": [
    {
     "data": {
      "text/plain": [
       "PromptTemplate(input_variables=['language', 'speech'], input_types={}, partial_variables={}, template='write a summary of speech:\\nSpeech:{speech}\\nTranslate the precise summary to {language}\\n')"
      ]
     },
     "execution_count": 14,
     "metadata": {},
     "output_type": "execute_result"
    }
   ],
   "source": [
    "from langchain.chains import LLMChain\n",
    "from langchain import PromptTemplate\n",
    "\n",
    "genrictemplate =\"\"\"write a summary of speech:\n",
    "Speech:{speech}\n",
    "Translate the precise summary to {language}\n",
    "\"\"\"\n",
    "\n",
    "prompt = PromptTemplate(\n",
    "    input_variables =['speech','language'],\n",
    "    template = genrictemplate\n",
    ")\n",
    "prompt"
   ]
  },
  {
   "cell_type": "code",
   "execution_count": 16,
   "id": "af976ae5",
   "metadata": {},
   "outputs": [],
   "source": [
    "complete_prompt = prompt.format(speech=speech,language=\"Kannada\")"
   ]
  },
  {
   "cell_type": "code",
   "execution_count": 17,
   "id": "3e500e52",
   "metadata": {},
   "outputs": [
    {
     "data": {
      "text/plain": [
       "930"
      ]
     },
     "execution_count": 17,
     "metadata": {},
     "output_type": "execute_result"
    }
   ],
   "source": [
    "llm.get_num_tokens(complete_prompt)"
   ]
  },
  {
   "cell_type": "code",
   "execution_count": 19,
   "id": "35a304ff",
   "metadata": {},
   "outputs": [
    {
     "data": {
      "text/plain": [
       "\"## ಭಿಕ್ಷಿತ  ಭಾರತ ಸಂಕಲ್ಪ ಯಾತ್ರೆ :  ಸಂಕ್ಷಿಪ್ತ ಸಾರಾಂಶ\\n\\nಪ್ರಜಾಸ್ತವ್ಯ, ರಾಜಕೀಯ ಮತ್ತು ಸಾಮಾಜಿಕ ಕ್ಷೇತ್ರದಲ್ಲಿ ಚಟುವಟಿಕತೆಯಲ್ಲಿ ಭಾಗಿಯಾಗುವ ಜನ, 'ವಿಕ್ಷಿತ  ಭಾರತ ಸಂಕಲ್ಪ ಯಾತ್ರೆ'ಯನ್ನು  ಯಶಸ್ವಿಯಾಗಿಸಲು ತಮ್ಮ ಸಮಯವನ್ನು ಅರ್ಪಿಸುತ್ತಿದ್ದಾರೆ.  ಸಂಸದರಾಗಿ,  ಈ ಯೋಜನೆಯಲ್ಲಿ  ಸಹಭಾಗಿತ್ವವನ್ನು  ಸೂಕ್ತವಾಗಿದೆ ಎಂಬ  ಮನೋಭಾವದಿಂದ  ಈ ಯಾತ್ರೆಯಿಂದ  ಭಾಗಿಯಾಗಲು  ಬಂದಿದ್ದೇನೆ.  \\n\\nಅನೇಕ  ಸರ್ಕಾರಗಳು ಬದಲಾಗಿದ್ದರೂ,  ಸಾಂಕ್ರಾಂತಿಕ  ಯೋಜನೆಗಳು  ಬೆಳವಣಿಗೆಯಾಗಿದ್ದರೂ,  ಪ್ರಮುಖ  ಶ್ರೇಣಿಯಲ್ಲಿ  ಸರ್ಕಾರದ  ಯೋಜನೆಗಳು  ಲಾಭ ಪಡೆಯುವ  ಲಕ್ಷ್ಯ  ಪ್ರಾಮುಖ್ಯತೆ  ಪಡೆಯುತ್ತವೆ.  ಪ್ರಧಾನ  ಮಂತ್ರಿ  ಆವಾಸ್  ಯೋಜನೆಯ  ಲಾಭ  ಜುಗ್ಗಿ  ಮತ್ತು  ಇತರ  ಬಡತನ  ಪೀಡಿತ  ಜನರಿಗೆ  ಪ್ರಾಪ್ತ  ಆಗಬೇಕು  ಮತ್ತು  ಅವರು  ಸರ್ಕಾರದ  ಕಚೇರಿಗಳನ್ನು  ನಿರಂತರ  ಭೇಟಿ  ಮಾಡದ  ಹಾಗೂ  ಮೊಸೆ  ಕೊಡದ  ವಸ್ತು  ಹೊಂದಬೇಕು.  ನಾನು  ಈ  ಸಂಪರ್ಕ  ಸಾಧಿಸುವ  ಕೆಲಸ  ಮಾಡುತ್ತಿದ್ದೆ.   \\n\\nಇದೇ  ಕಾರಣದಿಂದ,  'ವಿಕ್ಷಿತ  ಭಾರತ ಸಂಕಲ್ಪ ಯಾತ್ರೆ'   ನಾನಾ  ಪ್ರಾಮಾಣಿಕ  ಬ್ರೂಕ್ರೇಸಿಯ  ಜನರ  ಸಮಾನ  ಬೆಲೆ  ಪಡಿಸುವ  ಯತ್ರೆಯಾಗಿ  ಬಿಡುತ್ತದೆ.  ಅವರಿಗೆ  ಸರ್ಕಾರದ  ಯೋಜನೆಗಳ ಬಗ್ಗೆ  ಬಹುತೇಕ  ಜ್ಞಾನ  ವಿವರಣೆ  ಮತ್ತು  ಸಾಧನೆ  ಮಾಡಿ  ಸುಧಾರಿಸುವ  ಸಂಜ್ಞೆ  ವಿವರಣೆ  ಮಾಡುತ್ತದೆ.  ಇದು  ಸರ್ಕಾರದ  ಅಧಿಕಾರಿಗಳಿಗೆ  ಅನುಮೋದನೆ  ಮತ್ತು  ಸಾಧನೆ  ವೃದ್ಧಿ  ಮಾಡುತ್ತದೆ. \\n\\n\\n\""
      ]
     },
     "execution_count": 19,
     "metadata": {},
     "output_type": "execute_result"
    }
   ],
   "source": [
    "llm_chain = LLMChain(llm=llm,prompt=prompt)\n",
    "summary= llm_chain.run({'speech':speech,'language':'kannada'})\n",
    "summary"
   ]
  }
 ],
 "metadata": {
  "kernelspec": {
   "display_name": ".venv",
   "language": "python",
   "name": "python3"
  },
  "language_info": {
   "codemirror_mode": {
    "name": "ipython",
    "version": 3
   },
   "file_extension": ".py",
   "mimetype": "text/x-python",
   "name": "python",
   "nbconvert_exporter": "python",
   "pygments_lexer": "ipython3",
   "version": "3.11.9"
  }
 },
 "nbformat": 4,
 "nbformat_minor": 5
}
